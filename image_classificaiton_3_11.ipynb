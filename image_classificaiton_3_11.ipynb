{
 "cells": [
  {
   "cell_type": "code",
   "execution_count": 1,
   "id": "df20bc49-2bd4-4baf-9133-ae556bb7e7ad",
   "metadata": {},
   "outputs": [],
   "source": [
    "import pickle\n",
    "import os\n",
    "import numpy as np\n",
    "import matplotlib.pyplot as plt\n",
    "from sklearn.metrics import accuracy_score\n",
    "\n",
    "import torch\n",
    "import torch.nn as nn\n",
    "import torch.optim as optim\n",
    "import torch.nn.functional as F\n",
    "import torch.backends.cudnn as cudnn\n",
    "\n",
    "import torchvision\n",
    "import torchvision.transforms as transforms"
   ]
  },
  {
   "cell_type": "code",
   "execution_count": 2,
   "id": "3ab581d2-fe4c-4910-995d-611ade2325a4",
   "metadata": {},
   "outputs": [
    {
     "name": "stdout",
     "output_type": "stream",
     "text": [
      "CUDA Available: True\n",
      "CUDA Version: 11.7\n",
      "Number of GPUs: 1\n",
      "GPU Name: NVIDIA GeForce RTX 2060 SUPER\n",
      "Device Index: 0\n"
     ]
    }
   ],
   "source": [
    "print(\"CUDA Available:\", torch.cuda.is_available())\n",
    "print(\"CUDA Version:\", torch.version.cuda)\n",
    "print(\"Number of GPUs:\", torch.cuda.device_count())\n",
    "\n",
    "if torch.cuda.is_available():\n",
    "    print(\"GPU Name:\", torch.cuda.get_device_name(0))\n",
    "    print(\"Device Index:\", torch.cuda.current_device())"
   ]
  },
  {
   "cell_type": "code",
   "execution_count": 3,
   "id": "f82e484c-0e73-48e3-b197-5f3a2d0be43d",
   "metadata": {},
   "outputs": [],
   "source": [
    "file_path = os.path.join(os.getcwd(), \"data\")  # Path of the file"
   ]
  },
  {
   "cell_type": "code",
   "execution_count": 4,
   "id": "852b12f7-eb35-4466-af01-252b2fa9ffcf",
   "metadata": {},
   "outputs": [],
   "source": [
    "def imshow(img):\n",
    "    img = img / 2 + 0.5  # Undo normalization (reverse x' = (x - mean) / std)\n",
    "    npimg = img.numpy()   # Convert to NumPy array\n",
    "    plt.imshow(np.transpose(npimg, (1, 2, 0)))  # Convert (C, H, W) -> (H, W, C)\n",
    "    plt.show()"
   ]
  },
  {
   "cell_type": "code",
   "execution_count": 5,
   "id": "e8e8fb0b-bebd-49d8-b18b-9bcb0c4b3bb1",
   "metadata": {},
   "outputs": [],
   "source": [
    "# Create pipeline that will transform images pixels values to tensor (divide by 255)\n",
    "# Then for each color red, green and blue it will take (x - mean / std).\n",
    "transform = transforms.Compose(\n",
    "    [transforms.ToTensor(),\n",
    "     transforms.Normalize((0.5, 0.5, 0.5), (0.5, 0.5, 0.5))])\n",
    "batch_size = 4  # divide total number of samples that go in model"
   ]
  },
  {
   "cell_type": "code",
   "execution_count": 6,
   "id": "bbd7c813-21d0-4537-ab7b-0cbbbd5ab019",
   "metadata": {},
   "outputs": [
    {
     "name": "stdout",
     "output_type": "stream",
     "text": [
      "Files already downloaded and verified\n"
     ]
    }
   ],
   "source": [
    "trainset = torchvision.datasets.CIFAR10(root='./data', train=True,\n",
    "                                        download=True, transform=transform)\n",
    "trainloader = torch.utils.data.DataLoader(trainset, batch_size=batch_size,\n",
    "                                          shuffle=True, num_workers=2)"
   ]
  },
  {
   "cell_type": "code",
   "execution_count": 7,
   "id": "25731e93-e751-4795-93e3-d47fffce50be",
   "metadata": {},
   "outputs": [
    {
     "name": "stdout",
     "output_type": "stream",
     "text": [
      "torch.Size([3, 32, 32])\n",
      "tensor([[[0.6706, 0.6549, 0.6549,  ..., 0.1843, 0.1843, 0.1686],\n",
      "         [0.6784, 0.6627, 0.6627,  ..., 0.1922, 0.1922, 0.1843],\n",
      "         [0.6941, 0.6784, 0.6706,  ..., 0.2000, 0.2000, 0.1843],\n",
      "         ...,\n",
      "         [0.1373, 0.0667, 0.1216,  ..., 0.6941, 0.5373, 0.4353],\n",
      "         [0.0902, 0.0118, 0.0118,  ..., 0.7804, 0.7490, 0.6392],\n",
      "         [0.0745, 0.1216, 0.0667,  ..., 0.6392, 0.7020, 0.7882]],\n",
      "\n",
      "        [[0.7961, 0.7804, 0.7804,  ..., 0.3647, 0.3647, 0.3490],\n",
      "         [0.7961, 0.7804, 0.7804,  ..., 0.3725, 0.3725, 0.3647],\n",
      "         [0.7961, 0.7804, 0.7804,  ..., 0.3804, 0.3804, 0.3647],\n",
      "         ...,\n",
      "         [0.2471, 0.1608, 0.1922,  ..., 0.7020, 0.5451, 0.4353],\n",
      "         [0.2000, 0.1137, 0.0902,  ..., 0.7882, 0.7569, 0.6392],\n",
      "         [0.1922, 0.2157, 0.1373,  ..., 0.6392, 0.7020, 0.7882]],\n",
      "\n",
      "        [[0.8980, 0.8824, 0.8824,  ..., 0.6157, 0.6157, 0.6000],\n",
      "         [0.8902, 0.8745, 0.8745,  ..., 0.6235, 0.6235, 0.6078],\n",
      "         [0.8745, 0.8588, 0.8588,  ..., 0.6157, 0.6157, 0.6000],\n",
      "         ...,\n",
      "         [0.2941, 0.2078, 0.2392,  ..., 0.6157, 0.4980, 0.4275],\n",
      "         [0.2471, 0.1608, 0.1373,  ..., 0.7176, 0.7176, 0.6392],\n",
      "         [0.2314, 0.2627, 0.1922,  ..., 0.5922, 0.6706, 0.7725]]])\n"
     ]
    }
   ],
   "source": [
    "# Access the first image and label\n",
    "image, label = trainset[100]  # image is a tensor\n",
    "\n",
    "# Print the tensor values (optional, just to see raw numbers)\n",
    "print(image.shape)  # Output: torch.Size([3, 32, 32]) -> (Channels, Height, Width)\n",
    "print(image)        # Shows the pixel values as a tensor"
   ]
  },
  {
   "cell_type": "code",
   "execution_count": 8,
   "id": "848ae326-49a7-4268-b903-5017dbe14ee5",
   "metadata": {},
   "outputs": [
    {
     "data": {
      "image/png": "[encoded data removed]",
      "text/plain": [
       "<Figure size 640x480 with 1 Axes>"
      ]
     },
     "metadata": {},
     "output_type": "display_data"
    }
   ],
   "source": [
    "# Display the first image\n",
    "imshow(image)"
   ]
  },
  {
   "cell_type": "code",
   "execution_count": 9,
   "id": "24b6235b-2127-41bc-83bf-4029e74d4e83",
   "metadata": {},
   "outputs": [
    {
     "name": "stdout",
     "output_type": "stream",
     "text": [
      "Files already downloaded and verified\n"
     ]
    }
   ],
   "source": [
    "testset = torchvision.datasets.CIFAR10(root='./data', train=False,\n",
    "                                       download=True, transform=transform)\n",
    "testloader = torch.utils.data.DataLoader(testset, batch_size=batch_size,\n",
    "                                         shuffle=False, num_workers=2)\n",
    "\n",
    "classes = ('plane', 'car', 'bird', 'cat',\n",
    "           'deer', 'dog', 'frog', 'horse', 'ship', 'truck')"
   ]
  },
  {
   "cell_type": "code",
   "execution_count": 14,
   "id": "0a9c9922-0bcd-436b-b85d-fe0b098d8019",
   "metadata": {},
   "outputs": [
    {
     "data": {
      "image/png": "[encoded data removed]",
      "text/plain": [
       "<Figure size 640x480 with 1 Axes>"
      ]
     },
     "metadata": {},
     "output_type": "display_data"
    },
    {
     "name": "stdout",
     "output_type": "stream",
     "text": [
      "horse truck plane truck\n"
     ]
    }
   ],
   "source": [
    "# get some random training images\n",
    "dataiter = iter(trainloader)\n",
    "images, labels = next(dataiter)\n",
    "\n",
    "# show images\n",
    "imshow(torchvision.utils.make_grid(images))\n",
    "# print labels\n",
    "print(' '.join(f'{classes[labels[j]]:5s}' for j in range(batch_size)))"
   ]
  },
  {
   "cell_type": "code",
   "execution_count": null,
   "id": "0207307f-0ebf-463a-b073-5e557ef252d6",
   "metadata": {},
   "outputs": [],
   "source": []
  }
 ],
 "metadata": {
  "kernelspec": {
   "display_name": "Python 3.11 (PyTorch)",
   "language": "python",
   "name": "pytorch-env"
  },
  "language_info": {
   "codemirror_mode": {
    "name": "ipython",
    "version": 3
   },
   "file_extension": ".py",
   "mimetype": "text/x-python",
   "name": "python",
   "nbconvert_exporter": "python",
   "pygments_lexer": "ipython3",
   "version": "3.11.0"
  }
 },
 "nbformat": 4,
 "nbformat_minor": 5
}
