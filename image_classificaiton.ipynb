{
 "cells": [
  {
   "cell_type": "markdown",
   "id": "dee2a2bc-3dce-47ad-840d-1fb2bdb52fe4",
   "metadata": {},
   "source": [
    "# Import libraries + functions + dataset"
   ]
  },
  {
   "cell_type": "code",
   "execution_count": 54,
   "id": "bda18b20-9ec4-4819-bbe2-6eed69c7aff8",
   "metadata": {},
   "outputs": [],
   "source": [
    "import pickle\n",
    "import os\n",
    "import numpy as np\n",
    "import matplotlib.pyplot as plt"
   ]
  },
  {
   "cell_type": "code",
   "execution_count": 24,
   "id": "a3e4d5ac-9b21-4e42-a61e-2d146f3bce03",
   "metadata": {},
   "outputs": [],
   "source": [
    "def unpickle(file):\n",
    "    \"\"\"\n",
    "    Retrieved from https://www.cs.toronto.edu/~kriz/cifar.html. A consistent way to open each file containing images\n",
    "    \"\"\"\n",
    "    with open(file, 'rb') as fo:\n",
    "        dict = pickle.load(fo, encoding='bytes')\n",
    "    return dict\n",
    "\n",
    "def get_dict_shape(d):\n",
    "    \"\"\"\n",
    "    Small function to get shape of dictionnary keys with nested dictionnaries in values\n",
    "    \"\"\"\n",
    "    return {k: (len(v) if isinstance(v, (list, dict, np.ndarray)) else 1) for k, v in d.items()}"
   ]
  },
  {
   "cell_type": "code",
   "execution_count": 25,
   "id": "64e3997e-8957-4f09-88b6-ebbab21f08e0",
   "metadata": {},
   "outputs": [],
   "source": [
    "file_path = os.path.join(os.getcwd(), \"data\", \"data_batch_1\")  # Path of the file\n",
    "data_dict = unpickle(file_path)"
   ]
  },
  {
   "cell_type": "markdown",
   "id": "d5bfa77a-6bc0-4fb9-819a-5bde5eda1a6a",
   "metadata": {},
   "source": [
    "# Preparation of data"
   ]
  },
  {
   "cell_type": "code",
   "execution_count": 37,
   "id": "f53be25e-df2e-4647-919b-df347726c9a6",
   "metadata": {},
   "outputs": [
    {
     "data": {
      "text/plain": [
       "{b'batch_label': 1, b'labels': 10000, b'data': 10000, b'filenames': 10000}"
      ]
     },
     "execution_count": 37,
     "metadata": {},
     "output_type": "execute_result"
    }
   ],
   "source": [
    "get_dict_shape(data_dict)"
   ]
  },
  {
   "cell_type": "code",
   "execution_count": null,
   "id": "78ea9e52-3618-4aa2-b825-ceae2057abdd",
   "metadata": {},
   "outputs": [],
   "source": [
    "data[b\"data\"].shape"
   ]
  },
  {
   "cell_type": "code",
   "execution_count": 52,
   "id": "02e83988-29bd-4d1f-9487-8cf8c307a3e5",
   "metadata": {},
   "outputs": [],
   "source": [
    "# Example: Extract the first image\n",
    "image_flat = data[b\"data\"][0]  # Shape: (3072,)\n",
    "\n",
    "# Reshape the image (32x32 pixels, 3 color channels)\n",
    "# each [] pair represent 1 row and each [[]] represents 1 color !\n",
    "image = image_flat.reshape(3, 32, 32)  # Shape: (3, 32, 32)\n",
    "\n",
    "# Transpose to (32, 32, 3) for visualization because matplotlib expect this\n",
    "image = image.transpose(1, 2, 0)  # Now shape: (32, 32, 3)\n",
    "\n",
    "# Display the image\n",
    "plt.imshow(image)\n",
    "plt.axis(\"off\")  # Hide axes\n",
    "plt.show()"
   ]
  },
  {
   "cell_type": "code",
   "execution_count": null,
   "id": "66d71c58-eb53-48e8-8ae1-193e6266a275",
   "metadata": {},
   "outputs": [],
   "source": []
  }
 ],
 "metadata": {
  "kernelspec": {
   "display_name": "Python 3 (ipykernel)",
   "language": "python",
   "name": "python3"
  },
  "language_info": {
   "codemirror_mode": {
    "name": "ipython",
    "version": 3
   },
   "file_extension": ".py",
   "mimetype": "text/x-python",
   "name": "python",
   "nbconvert_exporter": "python",
   "pygments_lexer": "ipython3",
   "version": "3.12.5"
  }
 },
 "nbformat": 4,
 "nbformat_minor": 5
}
